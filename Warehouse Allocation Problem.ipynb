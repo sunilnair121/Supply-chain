{
 "cells": [
  {
   "cell_type": "markdown",
   "metadata": {},
   "source": [
    "# Supply Chain Network Design \"Warehouse Allocation\""
   ]
  },
  {
   "cell_type": "code",
   "execution_count": null,
   "metadata": {},
   "outputs": [],
   "source": [
    "from pulp import *   #Import Necessary Libraries\n",
    "import pandas as pd"
   ]
  },
  {
   "cell_type": "code",
   "execution_count": 22,
   "metadata": {},
   "outputs": [],
   "source": [
    "dist = pd.read_excel(\"warehouse_city.xlsx\") # Excel document conatining distance matrix\n",
    "demand = [10000,20000,33000,9000,60000,2500,35000]  # Demand for the products"
   ]
  },
  {
   "cell_type": "code",
   "execution_count": 23,
   "metadata": {},
   "outputs": [
    {
     "data": {
      "text/html": [
       "<div>\n",
       "<style scoped>\n",
       "    .dataframe tbody tr th:only-of-type {\n",
       "        vertical-align: middle;\n",
       "    }\n",
       "\n",
       "    .dataframe tbody tr th {\n",
       "        vertical-align: top;\n",
       "    }\n",
       "\n",
       "    .dataframe thead th {\n",
       "        text-align: right;\n",
       "    }\n",
       "</style>\n",
       "<table border=\"1\" class=\"dataframe\">\n",
       "  <thead>\n",
       "    <tr style=\"text-align: right;\">\n",
       "      <th></th>\n",
       "      <th>Warehouse</th>\n",
       "      <th>city 1</th>\n",
       "      <th>city 2</th>\n",
       "      <th>city 3</th>\n",
       "      <th>city 4</th>\n",
       "      <th>city 5</th>\n",
       "      <th>city 6</th>\n",
       "      <th>city 7</th>\n",
       "    </tr>\n",
       "  </thead>\n",
       "  <tbody>\n",
       "    <tr>\n",
       "      <th>0</th>\n",
       "      <td>city 1</td>\n",
       "      <td>0</td>\n",
       "      <td>2304</td>\n",
       "      <td>2528</td>\n",
       "      <td>950</td>\n",
       "      <td>906</td>\n",
       "      <td>947</td>\n",
       "      <td>1475</td>\n",
       "    </tr>\n",
       "    <tr>\n",
       "      <th>1</th>\n",
       "      <td>city 2</td>\n",
       "      <td>2304</td>\n",
       "      <td>0</td>\n",
       "      <td>2829</td>\n",
       "      <td>1776</td>\n",
       "      <td>2310</td>\n",
       "      <td>1475</td>\n",
       "      <td>2192</td>\n",
       "    </tr>\n",
       "    <tr>\n",
       "      <th>2</th>\n",
       "      <td>city 3</td>\n",
       "      <td>2528</td>\n",
       "      <td>2829</td>\n",
       "      <td>0</td>\n",
       "      <td>3123</td>\n",
       "      <td>1965</td>\n",
       "      <td>2134</td>\n",
       "      <td>1187</td>\n",
       "    </tr>\n",
       "    <tr>\n",
       "      <th>3</th>\n",
       "      <td>city 4</td>\n",
       "      <td>950</td>\n",
       "      <td>1776</td>\n",
       "      <td>3123</td>\n",
       "      <td>0</td>\n",
       "      <td>1699</td>\n",
       "      <td>1149</td>\n",
       "      <td>1926</td>\n",
       "    </tr>\n",
       "    <tr>\n",
       "      <th>4</th>\n",
       "      <td>city 5</td>\n",
       "      <td>906</td>\n",
       "      <td>2310</td>\n",
       "      <td>1965</td>\n",
       "      <td>1699</td>\n",
       "      <td>0</td>\n",
       "      <td>842</td>\n",
       "      <td>915</td>\n",
       "    </tr>\n",
       "    <tr>\n",
       "      <th>5</th>\n",
       "      <td>city 6</td>\n",
       "      <td>947</td>\n",
       "      <td>1475</td>\n",
       "      <td>2134</td>\n",
       "      <td>1149</td>\n",
       "      <td>842</td>\n",
       "      <td>0</td>\n",
       "      <td>922</td>\n",
       "    </tr>\n",
       "    <tr>\n",
       "      <th>6</th>\n",
       "      <td>city 7</td>\n",
       "      <td>1475</td>\n",
       "      <td>2192</td>\n",
       "      <td>1187</td>\n",
       "      <td>1926</td>\n",
       "      <td>915</td>\n",
       "      <td>922</td>\n",
       "      <td>0</td>\n",
       "    </tr>\n",
       "  </tbody>\n",
       "</table>\n",
       "</div>"
      ],
      "text/plain": [
       "  Warehouse  city 1  city 2  city 3  city 4  city 5  city 6  city 7\n",
       "0    city 1       0    2304    2528     950     906     947    1475\n",
       "1    city 2    2304       0    2829    1776    2310    1475    2192\n",
       "2    city 3    2528    2829       0    3123    1965    2134    1187\n",
       "3    city 4     950    1776    3123       0    1699    1149    1926\n",
       "4    city 5     906    2310    1965    1699       0     842     915\n",
       "5    city 6     947    1475    2134    1149     842       0     922\n",
       "6    city 7    1475    2192    1187    1926     915     922       0"
      ]
     },
     "execution_count": 23,
     "metadata": {},
     "output_type": "execute_result"
    }
   ],
   "source": [
    "dist"
   ]
  },
  {
   "cell_type": "code",
   "execution_count": 24,
   "metadata": {},
   "outputs": [],
   "source": [
    "dist = dist.set_index('Warehouse') # Set Warehouse as index for looping"
   ]
  },
  {
   "cell_type": "code",
   "execution_count": 43,
   "metadata": {},
   "outputs": [],
   "source": [
    "warehouse = dist.index\n",
    "customers = dist.columns"
   ]
  },
  {
   "cell_type": "code",
   "execution_count": 44,
   "metadata": {},
   "outputs": [],
   "source": [
    "keys = [(w,c) for w in warehouse for c in customers] # keys to set up the  flows variable"
   ]
  },
  {
   "cell_type": "code",
   "execution_count": 45,
   "metadata": {},
   "outputs": [],
   "source": [
    "dist_dist = {(w,c) : dist.loc[w,c] for w in warehouse for c in customers} # distance matrix"
   ]
  },
  {
   "cell_type": "code",
   "execution_count": 46,
   "metadata": {},
   "outputs": [],
   "source": [
    "flows = LpVariable.dicts('flows',keys,cat ='Binary') # Function variable"
   ]
  },
  {
   "cell_type": "code",
   "execution_count": 47,
   "metadata": {},
   "outputs": [],
   "source": [
    "open_wh = LpVariable.dicts('open_wh',warehouse,cat = 'Binary') # Function variable"
   ]
  },
  {
   "cell_type": "code",
   "execution_count": 48,
   "metadata": {},
   "outputs": [],
   "source": [
    "demand_dict = dict(zip(customers,demand)) # Make customers & demand a key value pair for objective function calculation"
   ]
  },
  {
   "cell_type": "code",
   "execution_count": 49,
   "metadata": {},
   "outputs": [],
   "source": [
    "model = LpProblem('Warehouse_Allocation',LpMinimize) # Model(Minimise)Function"
   ]
  },
  {
   "cell_type": "code",
   "execution_count": 50,
   "metadata": {},
   "outputs": [],
   "source": [
    "model+= lpSum([demand_dict[(c)] * flows[(w,c)] * dist_dist[(w,c)] for w in warehouse for c in customers]) # Objective Function"
   ]
  },
  {
   "cell_type": "code",
   "execution_count": 51,
   "metadata": {},
   "outputs": [],
   "source": [
    "for c in customers:\n",
    "    model+= lpSum([flows[w,c] for w in warehouse]) == 1 # Sum of all the flows should be equal to 1"
   ]
  },
  {
   "cell_type": "code",
   "execution_count": 52,
   "metadata": {},
   "outputs": [],
   "source": [
    "model+= lpSum([open_wh[(w)] for w in warehouse]) == 3 # No.of Warehouse is set to 3 but, can be changed for different scenarios "
   ]
  },
  {
   "cell_type": "code",
   "execution_count": 53,
   "metadata": {},
   "outputs": [],
   "source": [
    "for w in warehouse:\n",
    "    model+= open_wh[(w)] >= flows[(w,'city 1')]\n",
    "    model+= open_wh[(w)] >= flows[(w,'city 2')]\n",
    "    model+= open_wh[(w)] >= flows[(w,'city 3')]\n",
    "    model+= open_wh[(w)] >= flows[(w,'city 4')]\n",
    "    model+= open_wh[(w)] >= flows[(w,'city 5')]\n",
    "    model+= open_wh[(w)] >= flows[(w,'city 6')]\n",
    "    model+= open_wh[(w)] >= flows[(w,'city 7')]"
   ]
  },
  {
   "cell_type": "code",
   "execution_count": 54,
   "metadata": {},
   "outputs": [
    {
     "data": {
      "text/plain": [
       "1"
      ]
     },
     "execution_count": 54,
     "metadata": {},
     "output_type": "execute_result"
    }
   ],
   "source": [
    "model.solve() # Solving the objective function"
   ]
  },
  {
   "cell_type": "code",
   "execution_count": 63,
   "metadata": {},
   "outputs": [
    {
     "data": {
      "text/plain": [
       "58481000.0"
      ]
     },
     "execution_count": 63,
     "metadata": {},
     "output_type": "execute_result"
    }
   ],
   "source": [
    "value(model.objective) # Value of the objective function"
   ]
  },
  {
   "cell_type": "code",
   "execution_count": 55,
   "metadata": {},
   "outputs": [
    {
     "name": "stdout",
     "output_type": "stream",
     "text": [
      "open_wh_city_1 0.0\n",
      "open_wh_city_2 1.0\n",
      "open_wh_city_3 1.0\n",
      "open_wh_city_4 0.0\n",
      "open_wh_city_5 1.0\n",
      "open_wh_city_6 0.0\n",
      "open_wh_city_7 0.0\n"
     ]
    }
   ],
   "source": [
    "for i in open_wh:\n",
    "    print(open_wh[i],open_wh[i].varValue) # Warehouse that is opened"
   ]
  },
  {
   "cell_type": "code",
   "execution_count": 58,
   "metadata": {},
   "outputs": [],
   "source": [
    "flow_names = ['{} to {}'.format(w,c) for w in warehouse for c in customers]"
   ]
  },
  {
   "cell_type": "code",
   "execution_count": 60,
   "metadata": {},
   "outputs": [],
   "source": [
    "flow_quantity = [flows[(w,c)].varValue for w in warehouse for c in customers]"
   ]
  },
  {
   "cell_type": "code",
   "execution_count": 61,
   "metadata": {},
   "outputs": [],
   "source": [
    "flow_dict = dict(zip(flow_names,flow_quantity)) # Flow from city to city"
   ]
  },
  {
   "cell_type": "code",
   "execution_count": 62,
   "metadata": {},
   "outputs": [
    {
     "data": {
      "text/plain": [
       "{'city 1 to city 1': 0.0,\n",
       " 'city 1 to city 2': 0.0,\n",
       " 'city 1 to city 3': 0.0,\n",
       " 'city 1 to city 4': 0.0,\n",
       " 'city 1 to city 5': 0.0,\n",
       " 'city 1 to city 6': 0.0,\n",
       " 'city 1 to city 7': 0.0,\n",
       " 'city 2 to city 1': 0.0,\n",
       " 'city 2 to city 2': 1.0,\n",
       " 'city 2 to city 3': 0.0,\n",
       " 'city 2 to city 4': 0.0,\n",
       " 'city 2 to city 5': 0.0,\n",
       " 'city 2 to city 6': 0.0,\n",
       " 'city 2 to city 7': 0.0,\n",
       " 'city 3 to city 1': 0.0,\n",
       " 'city 3 to city 2': 0.0,\n",
       " 'city 3 to city 3': 1.0,\n",
       " 'city 3 to city 4': 0.0,\n",
       " 'city 3 to city 5': 0.0,\n",
       " 'city 3 to city 6': 0.0,\n",
       " 'city 3 to city 7': 0.0,\n",
       " 'city 4 to city 1': 0.0,\n",
       " 'city 4 to city 2': 0.0,\n",
       " 'city 4 to city 3': 0.0,\n",
       " 'city 4 to city 4': 0.0,\n",
       " 'city 4 to city 5': 0.0,\n",
       " 'city 4 to city 6': 0.0,\n",
       " 'city 4 to city 7': 0.0,\n",
       " 'city 5 to city 1': 1.0,\n",
       " 'city 5 to city 2': 0.0,\n",
       " 'city 5 to city 3': 0.0,\n",
       " 'city 5 to city 4': 1.0,\n",
       " 'city 5 to city 5': 1.0,\n",
       " 'city 5 to city 6': 1.0,\n",
       " 'city 5 to city 7': 1.0,\n",
       " 'city 6 to city 1': 0.0,\n",
       " 'city 6 to city 2': 0.0,\n",
       " 'city 6 to city 3': 0.0,\n",
       " 'city 6 to city 4': 0.0,\n",
       " 'city 6 to city 5': 0.0,\n",
       " 'city 6 to city 6': 0.0,\n",
       " 'city 6 to city 7': 0.0,\n",
       " 'city 7 to city 1': 0.0,\n",
       " 'city 7 to city 2': 0.0,\n",
       " 'city 7 to city 3': 0.0,\n",
       " 'city 7 to city 4': 0.0,\n",
       " 'city 7 to city 5': 0.0,\n",
       " 'city 7 to city 6': 0.0,\n",
       " 'city 7 to city 7': 0.0}"
      ]
     },
     "execution_count": 62,
     "metadata": {},
     "output_type": "execute_result"
    }
   ],
   "source": [
    "flow_dict"
   ]
  },
  {
   "cell_type": "code",
   "execution_count": null,
   "metadata": {},
   "outputs": [],
   "source": []
  }
 ],
 "metadata": {
  "kernelspec": {
   "display_name": "Python 3",
   "language": "python",
   "name": "python3"
  },
  "language_info": {
   "codemirror_mode": {
    "name": "ipython",
    "version": 3
   },
   "file_extension": ".py",
   "mimetype": "text/x-python",
   "name": "python",
   "nbconvert_exporter": "python",
   "pygments_lexer": "ipython3",
   "version": "3.8.5"
  }
 },
 "nbformat": 4,
 "nbformat_minor": 4
}
